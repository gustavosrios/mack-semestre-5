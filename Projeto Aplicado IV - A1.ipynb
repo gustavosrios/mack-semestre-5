{
 "cells": [
  {
   "cell_type": "code",
   "execution_count": 1,
   "id": "f441e87d-837b-4439-a1db-582857295b91",
   "metadata": {},
   "outputs": [],
   "source": [
    "import pandas as pd\n",
    "import numpy as np\n",
    "import matplotlib.pyplot as plt\n",
    "import seaborn as sns\n",
    "#import plotly.graph_objects as go\n",
    "#import plotly.express as px\n",
    "#import plotly.colors as pc\n",
    "#import scipy.stats as stats\n",
    "#import re\n",
    "#import os\n",
    "pd.set_option('display.max_colwidth', None)  # Mostra todo o conteúdo das colunas de texto\n",
    "pd.set_option('display.max_rows', None)  # Exibir todas as linhas\n",
    "pd.set_option('display.max_columns', None)  # Exibir todas as colunas"
   ]
  },
  {
   "cell_type": "markdown",
   "id": "bab3e94a-89a9-477a-b438-d1dc835959b4",
   "metadata": {},
   "source": [
    "### Dados Sisvan 2023"
   ]
  },
  {
   "cell_type": "code",
   "execution_count": 3,
   "id": "bb03d900-7368-4a8a-b449-9d06725cb3bd",
   "metadata": {},
   "outputs": [],
   "source": [
    "df_2023 = pd.read_csv('sisvan_estado_nutricional_2023.csv', encoding=\"ISO-8859-1\", sep=';')"
   ]
  },
  {
   "cell_type": "code",
   "execution_count": 4,
   "id": "3323a659-6466-48ba-90d1-c2197408d244",
   "metadata": {
    "scrolled": true
   },
   "outputs": [
    {
     "data": {
      "text/plain": [
       "(52253, 34)"
      ]
     },
     "execution_count": 4,
     "metadata": {},
     "output_type": "execute_result"
    }
   ],
   "source": [
    "df_2023.shape"
   ]
  },
  {
   "cell_type": "code",
   "execution_count": 5,
   "id": "341af026-a3c7-46fa-a3b2-6c5aa04ad507",
   "metadata": {
    "scrolled": true
   },
   "outputs": [
    {
     "data": {
      "text/plain": [
       "Index(['CO_ACOMPANHAMENTO', 'CO_PESSOA_SISVAN', 'ST_PARTICIPA_ANDI',\n",
       "       'CO_MUNICIPIO_IBGE', 'SG_UF', 'NO_MUNICIPIO', 'CO_CNES', 'NU_IDADE_ANO',\n",
       "       'NU_FASE_VIDA', 'DS_FASE_VIDA', 'SG_SEXO', 'CO_RACA_COR', 'DS_RACA_COR',\n",
       "       'CO_POVO_COMUNIDADE', 'DS_POVO_COMUNIDADE', 'CO_ESCOLARIDADE',\n",
       "       'DS_ESCOLARIDADE', 'DT_ACOMPANHAMENTO', 'NU_COMPETENCIA', 'NU_PESO',\n",
       "       'NU_ALTURA', 'DS_IMC', 'DS_IMC_PRE_GESTACIONAL', 'PESO X IDADE',\n",
       "       'PESO X ALTURA', 'CRI. ALTURA X IDADE', 'CRI. IMC X IDADE',\n",
       "       'ADO. ALTURA X IDADE', 'ADO. IMC X IDADE', 'CO_ESTADO_NUTRI_ADULTO',\n",
       "       'CO_ESTADO_NUTRI_IDOSO', 'CO_ESTADO_NUTRI_IMC_SEMGEST',\n",
       "       'CO_SISTEMA_ORIGEM_ACOMP', 'SISTEMA_ORIGEM_ACOMP'],\n",
       "      dtype='object')"
      ]
     },
     "execution_count": 5,
     "metadata": {},
     "output_type": "execute_result"
    }
   ],
   "source": [
    "df_2023.columns"
   ]
  },
  {
   "cell_type": "code",
   "execution_count": 6,
   "id": "14eb61b0-2c9d-48ab-9405-acc551427a7b",
   "metadata": {},
   "outputs": [
    {
     "data": {
      "text/plain": [
       "(52253, 34)"
      ]
     },
     "execution_count": 6,
     "metadata": {},
     "output_type": "execute_result"
    }
   ],
   "source": [
    "df_2023.shape"
   ]
  },
  {
   "cell_type": "code",
   "execution_count": 7,
   "id": "6ca9dd5d-eaea-4950-95bb-e3a1be76d43c",
   "metadata": {
    "scrolled": true
   },
   "outputs": [
    {
     "data": {
      "text/plain": [
       "CO_ACOMPANHAMENTO                  0\n",
       "CO_PESSOA_SISVAN                   0\n",
       "ST_PARTICIPA_ANDI              52253\n",
       "CO_MUNICIPIO_IBGE                  0\n",
       "SG_UF                              0\n",
       "NO_MUNICIPIO                       0\n",
       "CO_CNES                          182\n",
       "NU_IDADE_ANO                       0\n",
       "NU_FASE_VIDA                       0\n",
       "DS_FASE_VIDA                       0\n",
       "SG_SEXO                            0\n",
       "CO_RACA_COR                        0\n",
       "DS_RACA_COR                        0\n",
       "CO_POVO_COMUNIDADE             52098\n",
       "DS_POVO_COMUNIDADE                 0\n",
       "CO_ESCOLARIDADE                38282\n",
       "DS_ESCOLARIDADE                    0\n",
       "DT_ACOMPANHAMENTO                  0\n",
       "NU_COMPETENCIA                     0\n",
       "NU_PESO                            0\n",
       "NU_ALTURA                          0\n",
       "DS_IMC                             0\n",
       "DS_IMC_PRE_GESTACIONAL         52249\n",
       "PESO X IDADE                   39766\n",
       "PESO X ALTURA                  45133\n",
       "CRI. ALTURA X IDADE            39768\n",
       "CRI. IMC X IDADE               39781\n",
       "ADO. ALTURA X IDADE            45198\n",
       "ADO. IMC X IDADE               45203\n",
       "CO_ESTADO_NUTRI_ADULTO         28100\n",
       "CO_ESTADO_NUTRI_IDOSO          44032\n",
       "CO_ESTADO_NUTRI_IMC_SEMGEST    51561\n",
       "CO_SISTEMA_ORIGEM_ACOMP            0\n",
       "SISTEMA_ORIGEM_ACOMP               0\n",
       "dtype: int64"
      ]
     },
     "execution_count": 7,
     "metadata": {},
     "output_type": "execute_result"
    }
   ],
   "source": [
    "df_2023.isnull().sum()"
   ]
  },
  {
   "cell_type": "code",
   "execution_count": 8,
   "id": "592bf7cc-4e2b-47b7-8d24-9821a2ed8599",
   "metadata": {},
   "outputs": [],
   "source": [
    "df_2023 = df_2023.drop([\n",
    "    'ST_PARTICIPA_ANDI', 'CO_ACOMPANHAMENTO', 'CO_MUNICIPIO_IBGE', 'CO_CNES',\n",
    "    'NU_FASE_VIDA', 'CO_RACA_COR', 'CO_POVO_COMUNIDADE', 'CO_ESCOLARIDADE',\n",
    "    'DS_IMC_PRE_GESTACIONAL', 'CO_ESTADO_NUTRI_IMC_SEMGEST',\n",
    "    'CO_SISTEMA_ORIGEM_ACOMP','CO_PESSOA_SISVAN'], axis=1)"
   ]
  },
  {
   "cell_type": "code",
   "execution_count": 9,
   "id": "59ef3c05-d7a4-4611-96c0-988218a485c2",
   "metadata": {
    "scrolled": true
   },
   "outputs": [
    {
     "data": {
      "text/plain": [
       "(52253, 22)"
      ]
     },
     "execution_count": 9,
     "metadata": {},
     "output_type": "execute_result"
    }
   ],
   "source": [
    "df_2023.shape"
   ]
  },
  {
   "cell_type": "markdown",
   "id": "73daad17-13bb-42a7-b5aa-f4f4c07da982",
   "metadata": {},
   "source": [
    "### Dados Sisvan 2022"
   ]
  },
  {
   "cell_type": "code",
   "execution_count": 11,
   "id": "257e4dc1-f96a-4cef-9504-8826601fb2b4",
   "metadata": {},
   "outputs": [],
   "source": [
    "df_2022 = pd.read_csv('sisvan_estado_nutricional_2022.csv', encoding=\"ISO-8859-1\", sep=';')"
   ]
  },
  {
   "cell_type": "code",
   "execution_count": 12,
   "id": "5a681af2-bed1-4f7d-a3f5-e3ba3ae63ba6",
   "metadata": {},
   "outputs": [],
   "source": [
    "df_2022 = df_2022.drop([\n",
    "    'ST_PARTICIPA_ANDI', 'CO_ACOMPANHAMENTO', 'CO_MUNICIPIO_IBGE', 'CO_CNES',\n",
    "    'NU_FASE_VIDA', 'CO_RACA_COR', 'CO_POVO_COMUNIDADE', 'CO_ESCOLARIDADE',\n",
    "    'DS_IMC_PRE_GESTACIONAL', 'CO_ESTADO_NUTRI_IMC_SEMGEST',\n",
    "    'CO_SISTEMA_ORIGEM_ACOMP','CO_PESSOA_SISVAN'], axis=1)"
   ]
  },
  {
   "cell_type": "code",
   "execution_count": 13,
   "id": "ae8e3b45-4d99-4347-bf4f-08c7be53de72",
   "metadata": {},
   "outputs": [
    {
     "data": {
      "text/plain": [
       "(45862, 22)"
      ]
     },
     "execution_count": 13,
     "metadata": {},
     "output_type": "execute_result"
    }
   ],
   "source": [
    "df_2022.shape"
   ]
  },
  {
   "cell_type": "markdown",
   "id": "95283f25-fa85-4e93-b527-a2a7f16a35fa",
   "metadata": {},
   "source": [
    "### Dados Sisvan 2021"
   ]
  },
  {
   "cell_type": "code",
   "execution_count": 15,
   "id": "ceee1997-54fc-4398-8688-7a758de1f9cb",
   "metadata": {},
   "outputs": [],
   "source": [
    "df_2021 = pd.read_csv('sisvan_estado_nutricional_2021.csv', encoding=\"ISO-8859-1\", sep=';', low_memory=False)"
   ]
  },
  {
   "cell_type": "code",
   "execution_count": 16,
   "id": "ed27dcdf-6e0b-4522-bc1a-e9d971a0faca",
   "metadata": {},
   "outputs": [],
   "source": [
    "df_2021 = df_2021.drop([\n",
    "    'ST_PARTICIPA_ANDI', 'CO_ACOMPANHAMENTO', 'CO_MUNICIPIO_IBGE', 'CO_CNES',\n",
    "    'NU_FASE_VIDA', 'CO_RACA_COR', 'CO_POVO_COMUNIDADE', 'CO_ESCOLARIDADE',\n",
    "    'DS_IMC_PRE_GESTACIONAL', 'CO_ESTADO_NUTRI_IMC_SEMGEST',\n",
    "    'CO_SISTEMA_ORIGEM_ACOMP','CO_PESSOA_SISVAN'], axis=1)"
   ]
  },
  {
   "cell_type": "code",
   "execution_count": 17,
   "id": "7f7f241e-84f4-459d-b250-0d8b2ae7da52",
   "metadata": {
    "scrolled": true
   },
   "outputs": [
    {
     "data": {
      "text/plain": [
       "(29853, 22)"
      ]
     },
     "execution_count": 17,
     "metadata": {},
     "output_type": "execute_result"
    }
   ],
   "source": [
    "df_2021.shape"
   ]
  },
  {
   "cell_type": "markdown",
   "id": "fc2cc3aa-a23e-4276-8aa2-d787b3a1a562",
   "metadata": {},
   "source": [
    "### Dados Sisvan 2020"
   ]
  },
  {
   "cell_type": "code",
   "execution_count": 19,
   "id": "f49132c7-8129-46eb-904a-5ec747954d1c",
   "metadata": {},
   "outputs": [],
   "source": [
    "df_2020 = pd.read_csv('sisvan_estado_nutricional_2020.csv', encoding=\"ISO-8859-1\", sep=';')"
   ]
  },
  {
   "cell_type": "code",
   "execution_count": 20,
   "id": "78819b48-e93e-4b63-8b9b-2437b3c6c804",
   "metadata": {},
   "outputs": [],
   "source": [
    "df_2020 = df_2020.drop([\n",
    "    'ST_PARTICIPA_ANDI', 'CO_ACOMPANHAMENTO', 'CO_MUNICIPIO_IBGE', 'CO_CNES',\n",
    "    'NU_FASE_VIDA', 'CO_RACA_COR', 'CO_POVO_COMUNIDADE', 'CO_ESCOLARIDADE',\n",
    "    'DS_IMC_PRE_GESTACIONAL', 'CO_ESTADO_NUTRI_IMC_SEMGEST',\n",
    "    'CO_SISTEMA_ORIGEM_ACOMP','CO_PESSOA_SISVAN'], axis=1)"
   ]
  },
  {
   "cell_type": "code",
   "execution_count": 21,
   "id": "1dffad1c-f5a0-432e-83ec-83f857fe53c9",
   "metadata": {},
   "outputs": [
    {
     "data": {
      "text/plain": [
       "(22721, 22)"
      ]
     },
     "execution_count": 21,
     "metadata": {},
     "output_type": "execute_result"
    }
   ],
   "source": [
    "df_2020.shape"
   ]
  },
  {
   "cell_type": "markdown",
   "id": "29ca8998-d491-4b75-982d-f9a0e7b821df",
   "metadata": {},
   "source": [
    "### Dados Sisvan 2019"
   ]
  },
  {
   "cell_type": "code",
   "execution_count": 23,
   "id": "2dd403c5-9b3d-4a92-9703-68c623fbdcd2",
   "metadata": {},
   "outputs": [],
   "source": [
    "df_2019 = pd.read_csv('sisvan_estado_nutricional_2019.csv', encoding=\"ISO-8859-1\", sep=';')"
   ]
  },
  {
   "cell_type": "code",
   "execution_count": 24,
   "id": "46707097-02c3-4bce-a01f-b372030bbf87",
   "metadata": {},
   "outputs": [],
   "source": [
    "df_2019 = df_2019.drop([\n",
    "    'ST_PARTICIPA_ANDI', 'CO_ACOMPANHAMENTO', 'CO_MUNICIPIO_IBGE', 'CO_CNES',\n",
    "    'NU_FASE_VIDA', 'CO_RACA_COR', 'CO_POVO_COMUNIDADE', 'CO_ESCOLARIDADE',\n",
    "    'DS_IMC_PRE_GESTACIONAL', 'CO_ESTADO_NUTRI_IMC_SEMGEST',\n",
    "    'CO_SISTEMA_ORIGEM_ACOMP','CO_PESSOA_SISVAN'], axis=1)"
   ]
  },
  {
   "cell_type": "code",
   "execution_count": 25,
   "id": "a7f53c68-7934-441e-a987-bee6e0ca3971",
   "metadata": {},
   "outputs": [
    {
     "data": {
      "text/plain": [
       "(30175, 22)"
      ]
     },
     "execution_count": 25,
     "metadata": {},
     "output_type": "execute_result"
    }
   ],
   "source": [
    "df_2019.shape"
   ]
  },
  {
   "cell_type": "markdown",
   "id": "6c18e388-424d-4bf2-89ca-0e95b5942a61",
   "metadata": {},
   "source": [
    "### Dados Sisvan 2018"
   ]
  },
  {
   "cell_type": "code",
   "execution_count": 27,
   "id": "43a08359-5897-416b-8d54-f76f297f5e01",
   "metadata": {},
   "outputs": [],
   "source": [
    "df_2018 = pd.read_csv('sisvan_estado_nutricional_2018.csv', encoding=\"ISO-8859-1\", sep=';', low_memory=False)"
   ]
  },
  {
   "cell_type": "code",
   "execution_count": 28,
   "id": "b7268e39-6584-4f0c-8148-daab493ab1db",
   "metadata": {},
   "outputs": [],
   "source": [
    "df_2018 = df_2018.drop([\n",
    "    'ST_PARTICIPA_ANDI', 'CO_ACOMPANHAMENTO', 'CO_MUNICIPIO_IBGE', 'CO_CNES',\n",
    "    'NU_FASE_VIDA', 'CO_RACA_COR', 'CO_POVO_COMUNIDADE', 'CO_ESCOLARIDADE',\n",
    "    'DS_IMC_PRE_GESTACIONAL', 'CO_ESTADO_NUTRI_IMC_SEMGEST',\n",
    "    'CO_SISTEMA_ORIGEM_ACOMP','CO_PESSOA_SISVAN'], axis=1)"
   ]
  },
  {
   "cell_type": "code",
   "execution_count": 29,
   "id": "4f66a6f0-0e79-44a4-828a-db30f7a67ead",
   "metadata": {
    "scrolled": true
   },
   "outputs": [
    {
     "data": {
      "text/plain": [
       "(31479, 22)"
      ]
     },
     "execution_count": 29,
     "metadata": {},
     "output_type": "execute_result"
    }
   ],
   "source": [
    "df_2018.shape"
   ]
  },
  {
   "cell_type": "markdown",
   "id": "73d685ce-62f5-408d-8f35-5ea463c80b7c",
   "metadata": {},
   "source": [
    "### Merge - Consolidação das Bases"
   ]
  },
  {
   "cell_type": "code",
   "execution_count": 31,
   "id": "c90e7b95-f675-4502-b6d9-e5c203c30e7c",
   "metadata": {},
   "outputs": [],
   "source": [
    "lista_dfs = [df_2023, df_2022, df_2021, df_2020, df_2019, df_2018]\n",
    "df_consolidado = pd.concat(lista_dfs, ignore_index=True)"
   ]
  },
  {
   "cell_type": "code",
   "execution_count": 32,
   "id": "bf6d3ded-654e-452b-9e28-c19e179fe962",
   "metadata": {},
   "outputs": [
    {
     "data": {
      "text/html": [
       "<div>\n",
       "<style scoped>\n",
       "    .dataframe tbody tr th:only-of-type {\n",
       "        vertical-align: middle;\n",
       "    }\n",
       "\n",
       "    .dataframe tbody tr th {\n",
       "        vertical-align: top;\n",
       "    }\n",
       "\n",
       "    .dataframe thead th {\n",
       "        text-align: right;\n",
       "    }\n",
       "</style>\n",
       "<table border=\"1\" class=\"dataframe\">\n",
       "  <thead>\n",
       "    <tr style=\"text-align: right;\">\n",
       "      <th></th>\n",
       "      <th>SG_UF</th>\n",
       "      <th>NO_MUNICIPIO</th>\n",
       "      <th>NU_IDADE_ANO</th>\n",
       "      <th>DS_FASE_VIDA</th>\n",
       "      <th>SG_SEXO</th>\n",
       "      <th>DS_RACA_COR</th>\n",
       "      <th>DS_POVO_COMUNIDADE</th>\n",
       "      <th>DS_ESCOLARIDADE</th>\n",
       "      <th>DT_ACOMPANHAMENTO</th>\n",
       "      <th>NU_COMPETENCIA</th>\n",
       "      <th>NU_PESO</th>\n",
       "      <th>NU_ALTURA</th>\n",
       "      <th>DS_IMC</th>\n",
       "      <th>PESO X IDADE</th>\n",
       "      <th>PESO X ALTURA</th>\n",
       "      <th>CRI. ALTURA X IDADE</th>\n",
       "      <th>CRI. IMC X IDADE</th>\n",
       "      <th>ADO. ALTURA X IDADE</th>\n",
       "      <th>ADO. IMC X IDADE</th>\n",
       "      <th>CO_ESTADO_NUTRI_ADULTO</th>\n",
       "      <th>CO_ESTADO_NUTRI_IDOSO</th>\n",
       "      <th>SISTEMA_ORIGEM_ACOMP</th>\n",
       "    </tr>\n",
       "  </thead>\n",
       "  <tbody>\n",
       "    <tr>\n",
       "      <th>0</th>\n",
       "      <td>BA</td>\n",
       "      <td>LAGOA REAL</td>\n",
       "      <td>82</td>\n",
       "      <td>IDOSO</td>\n",
       "      <td>M</td>\n",
       "      <td>SEM INFORMACAO</td>\n",
       "      <td>NÃO INFORMADO</td>\n",
       "      <td>SEM INFORMAÇÃO</td>\n",
       "      <td>11/07/2023</td>\n",
       "      <td>202307</td>\n",
       "      <td>64,3</td>\n",
       "      <td>159</td>\n",
       "      <td>25,43</td>\n",
       "      <td>NaN</td>\n",
       "      <td>NaN</td>\n",
       "      <td>NaN</td>\n",
       "      <td>NaN</td>\n",
       "      <td>NaN</td>\n",
       "      <td>NaN</td>\n",
       "      <td>NaN</td>\n",
       "      <td>Adequado ou eutrófico</td>\n",
       "      <td>E-SUS AB</td>\n",
       "    </tr>\n",
       "    <tr>\n",
       "      <th>1</th>\n",
       "      <td>PA</td>\n",
       "      <td>PACAJA</td>\n",
       "      <td>20</td>\n",
       "      <td>ADULTO</td>\n",
       "      <td>F</td>\n",
       "      <td>AMARELA</td>\n",
       "      <td>NÃO INFORMADO</td>\n",
       "      <td>SEM INFORMAÇÃO</td>\n",
       "      <td>13/12/2023</td>\n",
       "      <td>202312</td>\n",
       "      <td>54</td>\n",
       "      <td>159</td>\n",
       "      <td>21,36</td>\n",
       "      <td>NaN</td>\n",
       "      <td>NaN</td>\n",
       "      <td>NaN</td>\n",
       "      <td>NaN</td>\n",
       "      <td>NaN</td>\n",
       "      <td>NaN</td>\n",
       "      <td>Adequado ou eutrófico</td>\n",
       "      <td>NaN</td>\n",
       "      <td>E-SUS AB</td>\n",
       "    </tr>\n",
       "    <tr>\n",
       "      <th>2</th>\n",
       "      <td>BA</td>\n",
       "      <td>BAIANOPOLIS</td>\n",
       "      <td>6</td>\n",
       "      <td>ENTRE 5 ANOS A 7 ANOS</td>\n",
       "      <td>F</td>\n",
       "      <td>BRANCA</td>\n",
       "      <td>NÃO INFORMADO</td>\n",
       "      <td>SEM INFORMAÇÃO</td>\n",
       "      <td>25/05/2023</td>\n",
       "      <td>202305</td>\n",
       "      <td>20,8</td>\n",
       "      <td>114</td>\n",
       "      <td>16</td>\n",
       "      <td>Peso adequado para idade</td>\n",
       "      <td>NaN</td>\n",
       "      <td>Estatura adequada para a idade</td>\n",
       "      <td>Eutrofia</td>\n",
       "      <td>NaN</td>\n",
       "      <td>NaN</td>\n",
       "      <td>NaN</td>\n",
       "      <td>NaN</td>\n",
       "      <td>AUXILIO BRASIL</td>\n",
       "    </tr>\n",
       "    <tr>\n",
       "      <th>3</th>\n",
       "      <td>MG</td>\n",
       "      <td>CABO VERDE</td>\n",
       "      <td>10</td>\n",
       "      <td>ADOLESCENTE</td>\n",
       "      <td>M</td>\n",
       "      <td>PARDA</td>\n",
       "      <td>NÃO INFORMADO</td>\n",
       "      <td>SEM INFORMAÇÃO</td>\n",
       "      <td>25/05/2023</td>\n",
       "      <td>202305</td>\n",
       "      <td>37</td>\n",
       "      <td>144</td>\n",
       "      <td>17,84</td>\n",
       "      <td>NaN</td>\n",
       "      <td>NaN</td>\n",
       "      <td>NaN</td>\n",
       "      <td>NaN</td>\n",
       "      <td>Estatura adequada para a idade</td>\n",
       "      <td>Eutrofia</td>\n",
       "      <td>NaN</td>\n",
       "      <td>NaN</td>\n",
       "      <td>E-SUS AB</td>\n",
       "    </tr>\n",
       "    <tr>\n",
       "      <th>4</th>\n",
       "      <td>RS</td>\n",
       "      <td>FARROUPILHA</td>\n",
       "      <td>57</td>\n",
       "      <td>ADULTO</td>\n",
       "      <td>M</td>\n",
       "      <td>BRANCA</td>\n",
       "      <td>NÃO INFORMADO</td>\n",
       "      <td>SEM INFORMAÇÃO</td>\n",
       "      <td>18/07/2023</td>\n",
       "      <td>202307</td>\n",
       "      <td>115</td>\n",
       "      <td>178</td>\n",
       "      <td>36,3</td>\n",
       "      <td>NaN</td>\n",
       "      <td>NaN</td>\n",
       "      <td>NaN</td>\n",
       "      <td>NaN</td>\n",
       "      <td>NaN</td>\n",
       "      <td>NaN</td>\n",
       "      <td>Obesidade Grau II</td>\n",
       "      <td>NaN</td>\n",
       "      <td>E-SUS AB</td>\n",
       "    </tr>\n",
       "  </tbody>\n",
       "</table>\n",
       "</div>"
      ],
      "text/plain": [
       "  SG_UF NO_MUNICIPIO  NU_IDADE_ANO           DS_FASE_VIDA SG_SEXO  \\\n",
       "0    BA   LAGOA REAL            82                  IDOSO       M   \n",
       "1    PA       PACAJA            20                 ADULTO       F   \n",
       "2    BA  BAIANOPOLIS             6  ENTRE 5 ANOS A 7 ANOS       F   \n",
       "3    MG   CABO VERDE            10            ADOLESCENTE       M   \n",
       "4    RS  FARROUPILHA            57                 ADULTO       M   \n",
       "\n",
       "      DS_RACA_COR DS_POVO_COMUNIDADE DS_ESCOLARIDADE DT_ACOMPANHAMENTO  \\\n",
       "0  SEM INFORMACAO      NÃO INFORMADO  SEM INFORMAÇÃO        11/07/2023   \n",
       "1         AMARELA      NÃO INFORMADO  SEM INFORMAÇÃO        13/12/2023   \n",
       "2          BRANCA      NÃO INFORMADO  SEM INFORMAÇÃO        25/05/2023   \n",
       "3           PARDA      NÃO INFORMADO  SEM INFORMAÇÃO        25/05/2023   \n",
       "4          BRANCA      NÃO INFORMADO  SEM INFORMAÇÃO        18/07/2023   \n",
       "\n",
       "   NU_COMPETENCIA NU_PESO NU_ALTURA DS_IMC              PESO X IDADE  \\\n",
       "0          202307    64,3       159  25,43                       NaN   \n",
       "1          202312      54       159  21,36                       NaN   \n",
       "2          202305    20,8       114     16  Peso adequado para idade   \n",
       "3          202305      37       144  17,84                       NaN   \n",
       "4          202307     115       178   36,3                       NaN   \n",
       "\n",
       "  PESO X ALTURA             CRI. ALTURA X IDADE CRI. IMC X IDADE  \\\n",
       "0           NaN                             NaN              NaN   \n",
       "1           NaN                             NaN              NaN   \n",
       "2           NaN  Estatura adequada para a idade         Eutrofia   \n",
       "3           NaN                             NaN              NaN   \n",
       "4           NaN                             NaN              NaN   \n",
       "\n",
       "              ADO. ALTURA X IDADE ADO. IMC X IDADE CO_ESTADO_NUTRI_ADULTO  \\\n",
       "0                             NaN              NaN                    NaN   \n",
       "1                             NaN              NaN  Adequado ou eutrófico   \n",
       "2                             NaN              NaN                    NaN   \n",
       "3  Estatura adequada para a idade         Eutrofia                    NaN   \n",
       "4                             NaN              NaN      Obesidade Grau II   \n",
       "\n",
       "   CO_ESTADO_NUTRI_IDOSO SISTEMA_ORIGEM_ACOMP  \n",
       "0  Adequado ou eutrófico             E-SUS AB  \n",
       "1                    NaN             E-SUS AB  \n",
       "2                    NaN       AUXILIO BRASIL  \n",
       "3                    NaN             E-SUS AB  \n",
       "4                    NaN             E-SUS AB  "
      ]
     },
     "execution_count": 32,
     "metadata": {},
     "output_type": "execute_result"
    }
   ],
   "source": [
    "df_consolidado.head()"
   ]
  },
  {
   "cell_type": "code",
   "execution_count": 33,
   "id": "5c53a9a1-6b89-4c52-8739-2a66bf6fec4c",
   "metadata": {},
   "outputs": [
    {
     "data": {
      "text/plain": [
       "(212343, 22)"
      ]
     },
     "execution_count": 33,
     "metadata": {},
     "output_type": "execute_result"
    }
   ],
   "source": [
    "df_consolidado.shape"
   ]
  },
  {
   "cell_type": "code",
   "execution_count": 34,
   "id": "a9890381-9724-48f2-b916-678ce086b5c1",
   "metadata": {
    "scrolled": true
   },
   "outputs": [
    {
     "name": "stdout",
     "output_type": "stream",
     "text": [
      "<class 'pandas.core.frame.DataFrame'>\n",
      "RangeIndex: 212343 entries, 0 to 212342\n",
      "Data columns (total 22 columns):\n",
      " #   Column                  Non-Null Count   Dtype \n",
      "---  ------                  --------------   ----- \n",
      " 0   SG_UF                   212343 non-null  object\n",
      " 1   NO_MUNICIPIO            212343 non-null  object\n",
      " 2   NU_IDADE_ANO            212343 non-null  int64 \n",
      " 3   DS_FASE_VIDA            212343 non-null  object\n",
      " 4   SG_SEXO                 212343 non-null  object\n",
      " 5   DS_RACA_COR             212343 non-null  object\n",
      " 6   DS_POVO_COMUNIDADE      212343 non-null  object\n",
      " 7   DS_ESCOLARIDADE         212343 non-null  object\n",
      " 8   DT_ACOMPANHAMENTO       212343 non-null  object\n",
      " 9   NU_COMPETENCIA          212343 non-null  int64 \n",
      " 10  NU_PESO                 212343 non-null  object\n",
      " 11  NU_ALTURA               212343 non-null  object\n",
      " 12  DS_IMC                  211801 non-null  object\n",
      " 13  PESO X IDADE            56828 non-null   object\n",
      " 14  PESO X ALTURA           32085 non-null   object\n",
      " 15  CRI. ALTURA X IDADE     56819 non-null   object\n",
      " 16  CRI. IMC X IDADE        56779 non-null   object\n",
      " 17  ADO. ALTURA X IDADE     31039 non-null   object\n",
      " 18  ADO. IMC X IDADE        31018 non-null   object\n",
      " 19  CO_ESTADO_NUTRI_ADULTO  97413 non-null   object\n",
      " 20  CO_ESTADO_NUTRI_IDOSO   25678 non-null   object\n",
      " 21  SISTEMA_ORIGEM_ACOMP    212343 non-null  object\n",
      "dtypes: int64(2), object(20)\n",
      "memory usage: 35.6+ MB\n"
     ]
    }
   ],
   "source": [
    "df_consolidado.info()"
   ]
  },
  {
   "cell_type": "code",
   "execution_count": 35,
   "id": "cf12549a-7ef1-4292-ae57-dc0f4444f3d5",
   "metadata": {},
   "outputs": [
    {
     "data": {
      "text/html": [
       "<div>\n",
       "<style scoped>\n",
       "    .dataframe tbody tr th:only-of-type {\n",
       "        vertical-align: middle;\n",
       "    }\n",
       "\n",
       "    .dataframe tbody tr th {\n",
       "        vertical-align: top;\n",
       "    }\n",
       "\n",
       "    .dataframe thead th {\n",
       "        text-align: right;\n",
       "    }\n",
       "</style>\n",
       "<table border=\"1\" class=\"dataframe\">\n",
       "  <thead>\n",
       "    <tr style=\"text-align: right;\">\n",
       "      <th></th>\n",
       "      <th>SG_UF</th>\n",
       "      <th>NO_MUNICIPIO</th>\n",
       "      <th>NU_IDADE_ANO</th>\n",
       "      <th>DS_FASE_VIDA</th>\n",
       "      <th>SG_SEXO</th>\n",
       "      <th>DS_RACA_COR</th>\n",
       "      <th>DS_POVO_COMUNIDADE</th>\n",
       "      <th>DS_ESCOLARIDADE</th>\n",
       "      <th>DT_ACOMPANHAMENTO</th>\n",
       "      <th>NU_COMPETENCIA</th>\n",
       "      <th>NU_PESO</th>\n",
       "      <th>NU_ALTURA</th>\n",
       "      <th>DS_IMC</th>\n",
       "      <th>PESO X IDADE</th>\n",
       "      <th>PESO X ALTURA</th>\n",
       "      <th>CRI. ALTURA X IDADE</th>\n",
       "      <th>CRI. IMC X IDADE</th>\n",
       "      <th>ADO. ALTURA X IDADE</th>\n",
       "      <th>ADO. IMC X IDADE</th>\n",
       "      <th>CO_ESTADO_NUTRI_ADULTO</th>\n",
       "      <th>CO_ESTADO_NUTRI_IDOSO</th>\n",
       "      <th>SISTEMA_ORIGEM_ACOMP</th>\n",
       "    </tr>\n",
       "  </thead>\n",
       "  <tbody>\n",
       "    <tr>\n",
       "      <th>0</th>\n",
       "      <td>BA</td>\n",
       "      <td>LAGOA REAL</td>\n",
       "      <td>82</td>\n",
       "      <td>IDOSO</td>\n",
       "      <td>M</td>\n",
       "      <td>SEM INFORMACAO</td>\n",
       "      <td>NÃO INFORMADO</td>\n",
       "      <td>SEM INFORMAÇÃO</td>\n",
       "      <td>11/07/2023</td>\n",
       "      <td>202307</td>\n",
       "      <td>64,3</td>\n",
       "      <td>159</td>\n",
       "      <td>25,43</td>\n",
       "      <td>NaN</td>\n",
       "      <td>NaN</td>\n",
       "      <td>NaN</td>\n",
       "      <td>NaN</td>\n",
       "      <td>NaN</td>\n",
       "      <td>NaN</td>\n",
       "      <td>NaN</td>\n",
       "      <td>Adequado ou eutrófico</td>\n",
       "      <td>E-SUS AB</td>\n",
       "    </tr>\n",
       "  </tbody>\n",
       "</table>\n",
       "</div>"
      ],
      "text/plain": [
       "  SG_UF NO_MUNICIPIO  NU_IDADE_ANO DS_FASE_VIDA SG_SEXO     DS_RACA_COR  \\\n",
       "0    BA   LAGOA REAL            82        IDOSO       M  SEM INFORMACAO   \n",
       "\n",
       "  DS_POVO_COMUNIDADE DS_ESCOLARIDADE DT_ACOMPANHAMENTO  NU_COMPETENCIA  \\\n",
       "0      NÃO INFORMADO  SEM INFORMAÇÃO        11/07/2023          202307   \n",
       "\n",
       "  NU_PESO NU_ALTURA DS_IMC PESO X IDADE PESO X ALTURA CRI. ALTURA X IDADE  \\\n",
       "0    64,3       159  25,43          NaN           NaN                 NaN   \n",
       "\n",
       "  CRI. IMC X IDADE ADO. ALTURA X IDADE ADO. IMC X IDADE  \\\n",
       "0              NaN                 NaN              NaN   \n",
       "\n",
       "  CO_ESTADO_NUTRI_ADULTO  CO_ESTADO_NUTRI_IDOSO SISTEMA_ORIGEM_ACOMP  \n",
       "0                    NaN  Adequado ou eutrófico             E-SUS AB  "
      ]
     },
     "execution_count": 35,
     "metadata": {},
     "output_type": "execute_result"
    }
   ],
   "source": [
    "df_consolidado.head(1)"
   ]
  },
  {
   "cell_type": "code",
   "execution_count": 36,
   "id": "42241446-5003-466e-bc8c-b02c54f7833a",
   "metadata": {},
   "outputs": [],
   "source": [
    "df_consolidado.to_csv('sisvan_consolidado.csv', index=False, encoding=\"ISO-8859-1\", sep=';')"
   ]
  },
  {
   "cell_type": "markdown",
   "id": "3d6b8a0e-6140-4816-ae7a-62d678a2e0e6",
   "metadata": {},
   "source": [
    "### Leitura da Base Consolidada"
   ]
  },
  {
   "cell_type": "code",
   "execution_count": 38,
   "id": "b651654e-47cc-4d94-9e07-7faad47dce5c",
   "metadata": {},
   "outputs": [],
   "source": [
    "df_consolidado = pd.read_csv('sisvan_consolidado.csv', encoding=\"ISO-8859-1\", sep=';')"
   ]
  },
  {
   "cell_type": "markdown",
   "id": "7c860ee7-62c3-4811-abd1-a5fdf9d0c009",
   "metadata": {},
   "source": [
    "### Verificação de dados nulos"
   ]
  },
  {
   "cell_type": "code",
   "execution_count": 40,
   "id": "de86ab2e-885d-4527-98fc-ab7f45188d0c",
   "metadata": {},
   "outputs": [],
   "source": [
    "import seaborn "
   ]
  },
  {
   "cell_type": "code",
   "execution_count": 41,
   "id": "e301e6a9-3c2c-4012-991a-fdfa8839b413",
   "metadata": {},
   "outputs": [
    {
     "data": {
      "text/plain": [
       "SG_UF                     0.000000\n",
       "NO_MUNICIPIO              0.000000\n",
       "NU_IDADE_ANO              0.000000\n",
       "DS_FASE_VIDA              0.000000\n",
       "SG_SEXO                   0.000000\n",
       "DS_RACA_COR               0.000000\n",
       "DS_POVO_COMUNIDADE        0.000000\n",
       "DS_ESCOLARIDADE           0.000000\n",
       "DT_ACOMPANHAMENTO         0.000000\n",
       "NU_COMPETENCIA            0.000000\n",
       "NU_PESO                   0.000000\n",
       "NU_ALTURA                 0.000000\n",
       "DS_IMC                    0.002552\n",
       "PESO X IDADE              0.732376\n",
       "PESO X ALTURA             0.848900\n",
       "CRI. ALTURA X IDADE       0.732419\n",
       "CRI. IMC X IDADE          0.732607\n",
       "ADO. ALTURA X IDADE       0.853826\n",
       "ADO. IMC X IDADE          0.853925\n",
       "CO_ESTADO_NUTRI_ADULTO    0.541247\n",
       "CO_ESTADO_NUTRI_IDOSO     0.879073\n",
       "SISTEMA_ORIGEM_ACOMP      0.000000\n",
       "dtype: float64"
      ]
     },
     "execution_count": 41,
     "metadata": {},
     "output_type": "execute_result"
    },
    {
     "data": {
      "image/png": "[encoded data removed]",
      "text/plain": [
       "<Figure size 300x200 with 1 Axes>"
      ]
     },
     "metadata": {},
     "output_type": "display_data"
    }
   ],
   "source": [
    "plt.figure(figsize=(3,2))\n",
    "sns.heatmap(df_consolidado.isnull(),\n",
    "            yticklabels=False,\n",
    "            cbar=False,\n",
    "            cmap='viridis')\n",
    "df_consolidado.isnull().sum() / len(df_consolidado)"
   ]
  },
  {
   "cell_type": "markdown",
   "id": "464749cd-d060-4b54-8b9c-adbc0f9aa35c",
   "metadata": {},
   "source": [
    "### Verificação Dados Infinitos"
   ]
  },
  {
   "cell_type": "code",
   "execution_count": 44,
   "id": "5e1ec906-b483-40af-9531-897544caf176",
   "metadata": {
    "scrolled": true
   },
   "outputs": [
    {
     "data": {
      "text/plain": [
       "NU_IDADE_ANO      0\n",
       "NU_COMPETENCIA    0\n",
       "dtype: int64"
      ]
     },
     "execution_count": 44,
     "metadata": {},
     "output_type": "execute_result"
    },
    {
     "data": {
      "image/png": "[encoded data removed]",
      "text/plain": [
       "<Figure size 300x200 with 1 Axes>"
      ]
     },
     "metadata": {},
     "output_type": "display_data"
    }
   ],
   "source": [
    "plt.figure(figsize=(3,2))\n",
    "sns.heatmap(np.isinf(df_consolidado.select_dtypes(include=['number'])),\n",
    "            yticklabels=False,\n",
    "            cbar=False,\n",
    "            cmap='viridis')\n",
    "np.isinf(df_consolidado.select_dtypes(include=['number'])).sum()"
   ]
  },
  {
   "cell_type": "code",
   "execution_count": 48,
   "id": "6b038347-0ef0-43a0-aac3-14e95704c57e",
   "metadata": {},
   "outputs": [
    {
     "data": {
      "text/html": [
       "<div>\n",
       "<style scoped>\n",
       "    .dataframe tbody tr th:only-of-type {\n",
       "        vertical-align: middle;\n",
       "    }\n",
       "\n",
       "    .dataframe tbody tr th {\n",
       "        vertical-align: top;\n",
       "    }\n",
       "\n",
       "    .dataframe thead th {\n",
       "        text-align: right;\n",
       "    }\n",
       "</style>\n",
       "<table border=\"1\" class=\"dataframe\">\n",
       "  <thead>\n",
       "    <tr style=\"text-align: right;\">\n",
       "      <th></th>\n",
       "      <th>SG_UF</th>\n",
       "      <th>NO_MUNICIPIO</th>\n",
       "      <th>NU_IDADE_ANO</th>\n",
       "      <th>DS_FASE_VIDA</th>\n",
       "      <th>SG_SEXO</th>\n",
       "      <th>DS_RACA_COR</th>\n",
       "      <th>DS_POVO_COMUNIDADE</th>\n",
       "      <th>DS_ESCOLARIDADE</th>\n",
       "      <th>DT_ACOMPANHAMENTO</th>\n",
       "      <th>NU_COMPETENCIA</th>\n",
       "      <th>NU_PESO</th>\n",
       "      <th>NU_ALTURA</th>\n",
       "      <th>DS_IMC</th>\n",
       "      <th>PESO X IDADE</th>\n",
       "      <th>PESO X ALTURA</th>\n",
       "      <th>CRI. ALTURA X IDADE</th>\n",
       "      <th>CRI. IMC X IDADE</th>\n",
       "      <th>ADO. ALTURA X IDADE</th>\n",
       "      <th>ADO. IMC X IDADE</th>\n",
       "      <th>CO_ESTADO_NUTRI_ADULTO</th>\n",
       "      <th>CO_ESTADO_NUTRI_IDOSO</th>\n",
       "      <th>SISTEMA_ORIGEM_ACOMP</th>\n",
       "    </tr>\n",
       "  </thead>\n",
       "  <tbody>\n",
       "    <tr>\n",
       "      <th>0</th>\n",
       "      <td>BA</td>\n",
       "      <td>LAGOA REAL</td>\n",
       "      <td>82</td>\n",
       "      <td>IDOSO</td>\n",
       "      <td>M</td>\n",
       "      <td>SEM INFORMACAO</td>\n",
       "      <td>NÃO INFORMADO</td>\n",
       "      <td>SEM INFORMAÇÃO</td>\n",
       "      <td>11/07/2023</td>\n",
       "      <td>202307</td>\n",
       "      <td>64,3</td>\n",
       "      <td>159</td>\n",
       "      <td>25,43</td>\n",
       "      <td>NaN</td>\n",
       "      <td>NaN</td>\n",
       "      <td>NaN</td>\n",
       "      <td>NaN</td>\n",
       "      <td>NaN</td>\n",
       "      <td>NaN</td>\n",
       "      <td>NaN</td>\n",
       "      <td>Adequado ou eutrófico</td>\n",
       "      <td>E-SUS AB</td>\n",
       "    </tr>\n",
       "  </tbody>\n",
       "</table>\n",
       "</div>"
      ],
      "text/plain": [
       "  SG_UF NO_MUNICIPIO  NU_IDADE_ANO DS_FASE_VIDA SG_SEXO     DS_RACA_COR  \\\n",
       "0    BA   LAGOA REAL            82        IDOSO       M  SEM INFORMACAO   \n",
       "\n",
       "  DS_POVO_COMUNIDADE DS_ESCOLARIDADE DT_ACOMPANHAMENTO  NU_COMPETENCIA  \\\n",
       "0      NÃO INFORMADO  SEM INFORMAÇÃO        11/07/2023          202307   \n",
       "\n",
       "  NU_PESO NU_ALTURA DS_IMC PESO X IDADE PESO X ALTURA CRI. ALTURA X IDADE  \\\n",
       "0    64,3       159  25,43          NaN           NaN                 NaN   \n",
       "\n",
       "  CRI. IMC X IDADE ADO. ALTURA X IDADE ADO. IMC X IDADE  \\\n",
       "0              NaN                 NaN              NaN   \n",
       "\n",
       "  CO_ESTADO_NUTRI_ADULTO  CO_ESTADO_NUTRI_IDOSO SISTEMA_ORIGEM_ACOMP  \n",
       "0                    NaN  Adequado ou eutrófico             E-SUS AB  "
      ]
     },
     "execution_count": 48,
     "metadata": {},
     "output_type": "execute_result"
    }
   ],
   "source": [
    "df_consolidado.head(1)"
   ]
  },
  {
   "cell_type": "markdown",
   "id": "55bd38c5-9efc-409f-bfc9-c16f0d089150",
   "metadata": {},
   "source": [
    "### Análise Exploratória de Dados"
   ]
  },
  {
   "cell_type": "code",
   "execution_count": null,
   "id": "e47b9987-3b63-4d06-976c-baaa4d7d57bb",
   "metadata": {},
   "outputs": [],
   "source": []
  }
 ],
 "metadata": {
  "kernelspec": {
   "display_name": "Python [conda env:base] *",
   "language": "python",
   "name": "conda-base-py"
  },
  "language_info": {
   "codemirror_mode": {
    "name": "ipython",
    "version": 3
   },
   "file_extension": ".py",
   "mimetype": "text/x-python",
   "name": "python",
   "nbconvert_exporter": "python",
   "pygments_lexer": "ipython3",
   "version": "3.12.7"
  }
 },
 "nbformat": 4,
 "nbformat_minor": 5
}
